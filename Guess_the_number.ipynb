{
  "nbformat": 4,
  "nbformat_minor": 0,
  "metadata": {
    "colab": {
      "provenance": []
    },
    "kernelspec": {
      "name": "python3",
      "display_name": "Python 3"
    },
    "language_info": {
      "name": "python"
    }
  },
  "cells": [
    {
      "cell_type": "code",
      "source": [
        "import random\n",
        "random.randint(1,100)"
      ],
      "metadata": {
        "colab": {
          "base_uri": "https://localhost:8080/"
        },
        "id": "GFtUExnWMYWE",
        "outputId": "5d8e4bef-98a4-491f-a7ad-b34e34e6cd64"
      },
      "execution_count": 18,
      "outputs": [
        {
          "output_type": "execute_result",
          "data": {
            "text/plain": [
              "41"
            ]
          },
          "metadata": {},
          "execution_count": 18
        }
      ]
    },
    {
      "cell_type": "code",
      "source": [
        "def number_guessing_game():\n",
        "  print(\"🎲Welcome to the Guessing Game🎲\")\n",
        "  print(\"I'm thinking of a number between 1 and 100.\")\n",
        "\n",
        "  #Generate the random number#\n",
        "  secret_number=random.randint(1,100)\n",
        "  attempts=0\n",
        "  while True:\n",
        "    Guess=input(\"Enter the number:(or 'q' to Quit\")\n",
        "\n",
        "    if Guess.lower()=='q':\n",
        "      print(\"Thankyou for playing\")\n",
        "      print(\"The secret number was\",secret_number)\n",
        "      break\n",
        "\n",
        "    if not Guess.isdigit():\n",
        "      print(\"❌Please enter a valid number\")\n",
        "      continue\n",
        "\n",
        "    Guess= int(Guess)\n",
        "    attempts+=1 #attempts=attempts+1--> attempts=0+1\n",
        "\n",
        "    #For guess the condition#\n",
        "\n",
        "    if Guess>secret_number:\n",
        "      print(\"⬆️Too high! Try Again.\")\n",
        "    elif Guess<secret_number:\n",
        "      print(\"🔽 Too Low! Try Again.\")\n",
        "    else:\n",
        "      print(f\"✅Congrats!! You have guess the number {secret_number} in {attempts} attempts.\")\n",
        "      break\n",
        "\n"
      ],
      "metadata": {
        "id": "S5TxBUKDNvyd"
      },
      "execution_count": 20,
      "outputs": []
    },
    {
      "cell_type": "code",
      "source": [
        "number_guessing_game()"
      ],
      "metadata": {
        "colab": {
          "base_uri": "https://localhost:8080/"
        },
        "id": "i4g-1w1-R6MV",
        "outputId": "1524cd45-ed4d-472d-922e-d05ee037d982"
      },
      "execution_count": 21,
      "outputs": [
        {
          "output_type": "stream",
          "name": "stdout",
          "text": [
            "🎲Welcome to the Guessing Game🎲\n",
            "I'm thinking of a number between 1 and 100.\n",
            "Enter the number:(or 'q' to Quit41\n",
            "🔽 Too Low! Try Again.\n",
            "Enter the number:(or 'q' to Quit90\n",
            "⬆️Too high! Try Again.\n",
            "Enter the number:(or 'q' to Quit80\n",
            "⬆️Too high! Try Again.\n",
            "Enter the number:(or 'q' to Quit70\n",
            "⬆️Too high! Try Again.\n",
            "Enter the number:(or 'q' to Quit60\n",
            "⬆️Too high! Try Again.\n",
            "Enter the number:(or 'q' to Quit50\n",
            "🔽 Too Low! Try Again.\n",
            "Enter the number:(or 'q' to Quit55\n",
            "⬆️Too high! Try Again.\n",
            "Enter the number:(or 'q' to Quit54\n",
            "⬆️Too high! Try Again.\n",
            "Enter the number:(or 'q' to Quit53\n",
            "⬆️Too high! Try Again.\n",
            "Enter the number:(or 'q' to Quit51\n",
            "✅Congrats!! You have guess the number 51 in 10 attempts.\n"
          ]
        }
      ]
    }
  ]
}